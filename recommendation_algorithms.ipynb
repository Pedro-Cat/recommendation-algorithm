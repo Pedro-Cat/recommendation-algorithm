{
 "cells": [
  {
   "cell_type": "code",
   "execution_count": 33,
   "id": "08f31c9d-9803-4bb0-9b23-face9128cdad",
   "metadata": {},
   "outputs": [],
   "source": [
    "from math import sqrt\n",
    "import pandas as pd\n",
    "import numpy as np"
   ]
  },
  {
   "cell_type": "code",
   "execution_count": 34,
   "id": "ce1bb4dc-e966-4b70-becb-c994d0bffc5e",
   "metadata": {},
   "outputs": [],
   "source": [
    "# All functions for recomendation rate\n",
    "def euclidiana(base, usuario1, usuario2):\n",
    "    from math import sqrt\n",
    "    similar = {}\n",
    "    for item in base[usuario1]:\n",
    "        if item in base[usuario2]: similar[item] = 1\n",
    "    if len(similar) == 0: return 0\n",
    "\n",
    "    somatorio = sum([pow(base[usuario1][item] - base[usuario2][item], 2) \n",
    "                     for item in base[usuario1] if item in base[usuario2]])\n",
    "    \n",
    "    return 1 / (1 + sqrt(somatorio))\n",
    "\n",
    "\n",
    "def getSimilares(base, usuario):\n",
    "    similaridade = [(euclidiana(base, usuario, outro), outro) \n",
    "                    for outro in base if outro != usuario]\n",
    "    return sorted(similaridade, reverse=True)[0:30]\n",
    "\n",
    "\n",
    "def getRecomendacoesUsuario(base, usuario):\n",
    "    totais = {}\n",
    "    somaSimilares = {}\n",
    "    \n",
    "    for outro in base:\n",
    "        if outro == usuario: continue\n",
    "        \n",
    "        similaridade = euclidiana(base, usuario, outro)\n",
    "        if similaridade <= 0: continue\n",
    "        \n",
    "        for item in base[outro]:\n",
    "            if item not in base[usuario]:\n",
    "                totais.setdefault(item, 0)\n",
    "                totais[item] += similaridade * base[outro][item]\n",
    "                somaSimilares.setdefault(item, 0)\n",
    "                somaSimilares[item] += similaridade\n",
    "                \n",
    "    ranking = [(total / somaSimilares[item], item) for item, total in totais.items()]\n",
    "    \n",
    "    return sorted(ranking, reverse=True)[0:30]\n",
    "\n",
    "\n",
    "def carregarMovieLens(path='./ml-100k'):\n",
    "    filmes = {}\n",
    "    for linha in open(path + '/u.item'):\n",
    "        (id, titulo) = linha.split('|')[0:2]\n",
    "        filmes[id] = titulo\n",
    "    \n",
    "    base = {}\n",
    "    for linha in open(path + '/u.data'):\n",
    "        (usuario, id_filme, avaliacao) = linha.split('\\t')[0:3]\n",
    "        base.setdefault(usuario, {})\n",
    "        base[usuario][filmes[id_filme]] = float(avaliacao)\n",
    "    return base\n",
    "\n",
    "\n",
    "def calculaItensSimilares(base):\n",
    "    result = {}\n",
    "    for item in base:\n",
    "        similaridade = getSimilares(base, item)\n",
    "        result[item] = similaridade\n",
    "    return result\n",
    "\n",
    "\n",
    "def getRecomendacoesItens(baseUsuario, itensSimilares, usuario):\n",
    "    notasUsuario = baseUsuario[usuario]\n",
    "    notas = {}\n",
    "    totalSimilaridade = {}\n",
    "    \n",
    "    for item, nota in notasUsuario.items():\n",
    "        for similaridade, item2 in itensSimilares[item]:\n",
    "            if item2 in notasUsuario: continue\n",
    "            \n",
    "            notas.setdefault(item2, 0)\n",
    "            notas[item2] += nota*similaridade\n",
    "            totalSimilaridade.setdefault(item2, 0)\n",
    "            totalSimilaridade[item2] += similaridade\n",
    "            \n",
    "    ranking = [(nota / totalSimilaridade[item], item) for item, nota in notas.items()]\n",
    "    \n",
    "    return sorted(ranking, reverse=True)[0:30]"
   ]
  },
  {
   "cell_type": "code",
   "execution_count": 35,
   "id": "3331223c-eb6f-4407-9edd-70ae3d020851",
   "metadata": {},
   "outputs": [],
   "source": [
    "# Load MovieLens dataframe, filtering items of interest and in a dictionary format\n",
    "base = carregarMovieLens()"
   ]
  },
  {
   "cell_type": "code",
   "execution_count": 36,
   "id": "38c71a94-f658-4238-a65f-9b8122093abd",
   "metadata": {
    "tags": []
   },
   "outputs": [],
   "source": [
    "# funtion to verify if string is float\n",
    "def isfloat(num):\n",
    "    try:\n",
    "        float(num)\n",
    "        return True\n",
    "    except ValueError:\n",
    "        return False\n",
    "\n",
    "    \n",
    "# Which dictionary/data wants to switch lines to columns:\n",
    "data = base\n",
    "##########\n",
    "df_normal = pd.DataFrame(data=data)\n",
    "df_invertido = df_normal.transpose()\n",
    "df_invertido.fillna('NotFloat', inplace=True)\n",
    "avaliacoesFilmes = {key: df_invertido[key].to_dict() for key in df_invertido.columns}\n",
    "for item in avaliacoesFilmes.keys():\n",
    "    remove = []\n",
    "    for i in avaliacoesFilmes[item].keys():\n",
    "        if not isfloat(avaliacoesFilmes[item][i]):\n",
    "            remove.append(i)\n",
    "    for i in remove:\n",
    "        del avaliacoesFilmes[item][i]\n",
    "    remove.clear()\n",
    "# the new dataset created is called: avaliacoesFilmes"
   ]
  },
  {
   "cell_type": "code",
   "execution_count": 37,
   "id": "c0cb4296-306f-413e-b97d-73167d78bb7f",
   "metadata": {},
   "outputs": [],
   "source": [
    "# pre-calculation of items similarity, to speed up the process\n",
    "itensSimilares = calculaItensSimilares(avaliacoesFilmes)"
   ]
  },
  {
   "cell_type": "markdown",
   "id": "4d32a845-2dbc-4183-8148-0578069033cb",
   "metadata": {},
   "source": [
    "# Tests"
   ]
  },
  {
   "cell_type": "markdown",
   "id": "dda35a6d-64ca-428d-aa04-bf5c7c5903a3",
   "metadata": {},
   "source": [
    "### Users similarity"
   ]
  },
  {
   "cell_type": "code",
   "execution_count": 38,
   "id": "e6ae8e93-9733-49af-b895-99c8023511f3",
   "metadata": {},
   "outputs": [
    {
     "data": {
      "text/plain": [
       "0.16139047779640892"
      ]
     },
     "execution_count": 38,
     "metadata": {},
     "output_type": "execute_result"
    }
   ],
   "source": [
    "euclidiana(base, '1', '2')"
   ]
  },
  {
   "cell_type": "code",
   "execution_count": 39,
   "id": "c0e7e2a3-bd78-4e3a-8862-be7f5eccc5bc",
   "metadata": {},
   "outputs": [
    {
     "data": {
      "text/plain": [
       "[(1.0, '812'),\n",
       " (1.0, '418'),\n",
       " (1.0, '155'),\n",
       " (0.5, '729'),\n",
       " (0.5, '631'),\n",
       " (0.5, '351'),\n",
       " (0.5, '309'),\n",
       " (0.5, '273'),\n",
       " (0.4142135623730951, '876'),\n",
       " (0.4142135623730951, '485'),\n",
       " (0.4142135623730951, '111'),\n",
       " (0.36602540378443865, '687'),\n",
       " (0.36602540378443865, '105'),\n",
       " (0.3333333333333333, '895'),\n",
       " (0.3333333333333333, '811'),\n",
       " (0.3333333333333333, '685'),\n",
       " (0.3333333333333333, '531'),\n",
       " (0.3333333333333333, '39'),\n",
       " (0.3333333333333333, '356'),\n",
       " (0.3333333333333333, '341'),\n",
       " (0.3333333333333333, '282'),\n",
       " (0.3333333333333333, '260'),\n",
       " (0.3333333333333333, '107'),\n",
       " (0.3090169943749474, '9'),\n",
       " (0.3090169943749474, '842'),\n",
       " (0.3090169943749474, '820'),\n",
       " (0.3090169943749474, '696'),\n",
       " (0.3090169943749474, '547'),\n",
       " (0.3090169943749474, '520'),\n",
       " (0.3090169943749474, '516')]"
      ]
     },
     "execution_count": 39,
     "metadata": {},
     "output_type": "execute_result"
    }
   ],
   "source": [
    "getSimilares(base, '1')"
   ]
  },
  {
   "cell_type": "code",
   "execution_count": 40,
   "id": "96dc2b60-dd01-4a83-8a77-461f2cb9f385",
   "metadata": {},
   "outputs": [
    {
     "data": {
      "text/plain": [
       "[(5.000000000000001, 'Saint of Fort Washington, The (1993)'),\n",
       " (5.0, 'They Made Me a Criminal (1939)'),\n",
       " (5.0, \"Someone Else's America (1995)\"),\n",
       " (5.0, 'Santa with Muscles (1996)'),\n",
       " (5.0, 'Prefontaine (1997)'),\n",
       " (5.0, 'Marlene Dietrich: Shadow and Light (1996) '),\n",
       " (5.0, 'Great Day in Harlem, A (1994)'),\n",
       " (5.0, 'Entertaining Angels: The Dorothy Day Story (1996)'),\n",
       " (5.0, 'Aiqing wansui (1994)'),\n",
       " (4.999999999999999, 'Star Kid (1997)'),\n",
       " (4.709540786352371, 'Pather Panchali (1955)'),\n",
       " (4.623660893418929, \"Some Mother's Son (1996)\"),\n",
       " (4.605117943969987, 'Anna (1996)'),\n",
       " (4.542493480195261, 'Letter From Death Row, A (1998)'),\n",
       " (4.514686319613309, 'Close Shave, A (1995)'),\n",
       " (4.503301065093885, \"Schindler's List (1993)\"),\n",
       " (4.474029296757844, 'Casablanca (1942)'),\n",
       " (4.44823347681708, 'Third Man, The (1949)'),\n",
       " (4.4388914364740515, 'Faust (1994)'),\n",
       " (4.412532456819868, 'Everest (1998)'),\n",
       " (4.402793159814662, 'Rear Window (1954)'),\n",
       " (4.364687978517131, 'Bitter Sugar (Azucar Amargo) (1996)'),\n",
       " (4.331480711411843, 'Secrets & Lies (1996)'),\n",
       " (4.33115138680285, 'Stonewall (1995)'),\n",
       " (4.326873957991623, 'North by Northwest (1959)'),\n",
       " (4.317101121475913, \"One Flew Over the Cuckoo's Nest (1975)\"),\n",
       " (4.310897076014406, 'To Kill a Mockingbird (1962)'),\n",
       " (4.303959889860895, 'Kaspar Hauser (1993)'),\n",
       " (4.303538676927596, 'Lawrence of Arabia (1962)'),\n",
       " (4.28865836532846, 'Manchurian Candidate, The (1962)')]"
      ]
     },
     "execution_count": 40,
     "metadata": {},
     "output_type": "execute_result"
    }
   ],
   "source": [
    "getRecomendacoesUsuario(base, '1')"
   ]
  },
  {
   "cell_type": "markdown",
   "id": "4d8a2f19-af2d-4b8a-90d4-07841c7f8e1b",
   "metadata": {},
   "source": [
    "### Items similarity"
   ]
  },
  {
   "cell_type": "code",
   "execution_count": 41,
   "id": "47cde829-78af-404c-aaed-92964955f370",
   "metadata": {},
   "outputs": [
    {
     "data": {
      "text/plain": [
       "0.1482675827043134"
      ]
     },
     "execution_count": 41,
     "metadata": {},
     "output_type": "execute_result"
    }
   ],
   "source": [
    "euclidiana(avaliacoesFilmes, 'Kolya (1996)', '101 Dalmatians (1996)')"
   ]
  },
  {
   "cell_type": "code",
   "execution_count": 42,
   "id": "004b51ff-1062-47aa-8099-bfa7adca4661",
   "metadata": {},
   "outputs": [
    {
     "data": {
      "text/plain": [
       "[(1.0, 'What Happened Was... (1994)'),\n",
       " (1.0, 'Welcome To Sarajevo (1997)'),\n",
       " (1.0, 'War Room, The (1993)'),\n",
       " (1.0, 'Walk in the Sun, A (1945)'),\n",
       " (1.0, 'U.S. Marshalls (1998)'),\n",
       " (1.0, 'Twilight (1998)'),\n",
       " (1.0, 'Tom & Viv (1994)'),\n",
       " (1.0, 'Three Wishes (1995)'),\n",
       " (1.0, 'Temptress Moon (Feng Yue) (1996)'),\n",
       " (1.0, 'Surviving the Game (1994)'),\n",
       " (1.0, 'Safe (1995)'),\n",
       " (1.0, 'Run of the Country, The (1995)'),\n",
       " (1.0, 'Paradise Road (1997)'),\n",
       " (1.0, 'Nobody Loves Me (Keiner liebt mich) (1994)'),\n",
       " (1.0, 'No Escape (1994)'),\n",
       " (1.0, 'Nil By Mouth (1997)'),\n",
       " (1.0, 'My Crazy Life (Mi vida loca) (1993)'),\n",
       " (1.0, 'Mediterraneo (1991)'),\n",
       " (1.0, 'Man of No Importance, A (1994)'),\n",
       " (1.0, 'Madame Butterfly (1995)'),\n",
       " (1.0, 'Last Summer in the Hamptons (1995)'),\n",
       " (1.0, 'Johns (1996)'),\n",
       " (1.0, 'Hunted, The (1995)'),\n",
       " (1.0, 'Hard Eight (1996)'),\n",
       " (1.0, 'Frankie Starlight (1995)'),\n",
       " (1.0, 'Flesh and Bone (1993)'),\n",
       " (1.0, 'Fatal Instinct (1993)'),\n",
       " (1.0, 'Double vie de Véronique, La (Double Life of Veronique, The) (1991)'),\n",
       " (1.0, \"Daniel Defoe's Robinson Crusoe (1996)\"),\n",
       " (1.0, 'Commandments (1997)')]"
      ]
     },
     "execution_count": 42,
     "metadata": {},
     "output_type": "execute_result"
    }
   ],
   "source": [
    "getSimilares(avaliacoesFilmes, '101 Dalmatians (1996)')"
   ]
  },
  {
   "cell_type": "code",
   "execution_count": 43,
   "id": "7a387198-3643-4ee0-83f3-461ac370c2e2",
   "metadata": {},
   "outputs": [
    {
     "data": {
      "text/plain": [
       "[(5.0, 'Winnie the Pooh and the Blustery Day (1968)'),\n",
       " (5.0, \"What's Love Got to Do with It (1993)\"),\n",
       " (5.0, 'Up Close and Personal (1996)'),\n",
       " (5.0, 'Three Musketeers, The (1993)'),\n",
       " (5.0, 'Third Man, The (1949)'),\n",
       " (5.0, 'Streetcar Named Desire, A (1951)'),\n",
       " (5.0, \"Stephen King's The Langoliers (1995)\"),\n",
       " (5.0, 'Stand by Me (1986)'),\n",
       " (5.0, 'Spellbound (1945)'),\n",
       " (5.0, 'Speed (1994)'),\n",
       " (5.0, 'Somewhere in Time (1980)'),\n",
       " (5.0, 'Something to Talk About (1995)'),\n",
       " (5.0, 'Some Folks Call It a Sling Blade (1993)'),\n",
       " (5.0, 'Sliver (1993)'),\n",
       " (5.0, 'Shine (1996)'),\n",
       " (5.0, 'Shaggy Dog, The (1959)'),\n",
       " (5.0, 'Seventh Seal, The (Sjunde inseglet, Det) (1957)'),\n",
       " (5.0, 'Rosewood (1997)'),\n",
       " (5.0, 'Romeo Is Bleeding (1993)'),\n",
       " (5.0, 'Rob Roy (1995)'),\n",
       " (5.0, 'Return of Martin Guerre, The (Retour de Martin Guerre, Le) (1982)'),\n",
       " (5.0, 'Restoration (1995)'),\n",
       " (5.0, 'Quest, The (1996)'),\n",
       " (5.0, 'Pollyanna (1960)'),\n",
       " (5.0, 'Paths of Glory (1957)'),\n",
       " (5.0, 'Other Voices, Other Rooms (1997)'),\n",
       " (5.0, 'Once Were Warriors (1994)'),\n",
       " (5.0, 'Mighty Morphin Power Rangers: The Movie (1995)'),\n",
       " (5.0, 'Mad City (1997)'),\n",
       " (5.0, 'Ma vie en rose (My Life in Pink) (1997)')]"
      ]
     },
     "execution_count": 43,
     "metadata": {},
     "output_type": "execute_result"
    }
   ],
   "source": [
    "getRecomendacoesItens(base, itensSimilares, '1')"
   ]
  }
 ],
 "metadata": {
  "kernelspec": {
   "display_name": "Python 3 (ipykernel)",
   "language": "python",
   "name": "python3"
  },
  "language_info": {
   "codemirror_mode": {
    "name": "ipython",
    "version": 3
   },
   "file_extension": ".py",
   "mimetype": "text/x-python",
   "name": "python",
   "nbconvert_exporter": "python",
   "pygments_lexer": "ipython3",
   "version": "3.9.7"
  }
 },
 "nbformat": 4,
 "nbformat_minor": 5
}
